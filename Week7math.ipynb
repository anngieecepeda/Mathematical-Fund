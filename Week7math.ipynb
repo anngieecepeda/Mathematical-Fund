{
 "cells": [
  {
   "cell_type": "code",
   "execution_count": 1,
   "id": "e7d81888",
   "metadata": {},
   "outputs": [],
   "source": [
    "import numpy as np\n",
    "\n",
    "from scipy.stats import norm\n"
   ]
  },
  {
   "cell_type": "markdown",
   "id": "6d08759c",
   "metadata": {},
   "source": [
    "PARTE B\n",
    "EXERCISE 1\n",
    "\n",
    "Confidence Inteval for Population Mean\n",
    "When the population standard deviation is known."
   ]
  },
  {
   "cell_type": "code",
   "execution_count": 2,
   "id": "d4ab19ea",
   "metadata": {},
   "outputs": [],
   "source": [
    "#Exercise 1 \n",
    "\n",
    "#Sample data\n",
    "\n",
    "x = np.array([12, 12, 13, 13, 15, 16, 17, 22, 23, 25, 26, 27, 28, 28, 29, 17, 22, 23, 25, 26, 27, 28, 28, 29, 13, 15, 16, \n",
    "17, 22, 23, 25, 26, 27, 28, 28, 29, 17, 22, 23])"
   ]
  },
  {
   "cell_type": "code",
   "execution_count": 3,
   "id": "222d9310",
   "metadata": {},
   "outputs": [],
   "source": [
    "#Population Standard Deviation\n",
    "\n",
    "population_std_dev = 5.6\n",
    "\n",
    "#Point Estimate\n",
    "\n",
    "sample_size = len(x)\n",
    "point_estimate = np.mean(x)\n",
    "\n",
    "#Critical value based on z-distribution for 95% confidence interval\n",
    "confidence_level = 0.95\n",
    "z_critical = norm.ppf((1 + confidence_level) / 2)\n",
    "\n",
    "#Standar Error\n",
    "standard_error = population_std_dev / np.sqrt(len(x))\n",
    "\n",
    "#Margin of Error\n",
    "\n",
    "margin_of_error = z_critical * standard_error\n",
    "\n",
    "#Confidence Interval\n",
    "\n",
    "lower_bound = point_estimate - margin_of_error\n",
    "upper_bound = point_estimate + margin_of_error\n"
   ]
  },
  {
   "cell_type": "code",
   "execution_count": 6,
   "id": "cc9a17df",
   "metadata": {
    "scrolled": true
   },
   "outputs": [
    {
     "name": "stdout",
     "output_type": "stream",
     "text": [
      "Sample Size: 39\n",
      "Point Estimate: 22.102564102564102\n",
      "Critical Value (Z): 1.959963984540054\n",
      "Standard Error: 0.8967176613084878\n",
      "95% Confidence Interval: [20.34502978209848, 23.860098423029726]\n"
     ]
    }
   ],
   "source": [
    "#Output\n",
    "\n",
    "print(f\"Sample Size: {sample_size}\")\n",
    "print(f\"Point Estimate: {point_estimate}\")\n",
    "print(f\"Critical Value (Z): {z_critical}\")\n",
    "print(f\"Standard Error: {standard_error}\")\n",
    "print(f\"95% Confidence Interval: [{lower_bound}, {upper_bound}]\")\n",
    "\n"
   ]
  },
  {
   "cell_type": "markdown",
   "id": "e001100d",
   "metadata": {},
   "source": [
    "EXERCISE 2\n",
    "Confidence Intervals Using the Students t Distribution"
   ]
  },
  {
   "cell_type": "code",
   "execution_count": 7,
   "id": "6c825c7f",
   "metadata": {},
   "outputs": [],
   "source": [
    "import numpy as np\n",
    "from scipy.stats import t\n",
    "\n",
    "#Sample data\n",
    "\n",
    "x = np.array([12, 12, 13, 13, 15, 16, 17, 22, 23, 25, 26, 27, 28, 28, 29])\n"
   ]
  },
  {
   "cell_type": "code",
   "execution_count": 8,
   "id": "75f73cd7",
   "metadata": {},
   "outputs": [],
   "source": [
    "#Sample size\n",
    "sample_size = len(x)\n",
    "\n",
    "#Degrees of Freedom for t Distribution\n",
    "df = sample_size - 1\n",
    "\n",
    "#Point estimate (mean)\n",
    "point_estimate = np.mean(x)\n",
    "\n",
    "#Critical value based on z-distribution for 95% confidence interval\n",
    "confidence_level = 0.95\n",
    "t_critical = t.ppf((1 + confidence_level) / 2, df)\n",
    "\n",
    "#Standar Error\n",
    "std_dev = np.std(x, ddof =1) #ddof=1 for sample standard deviation\n",
    "standard_error = std_dev / np.sqrt(sample_size)\n",
    "\n",
    "#Margin of Error\n",
    "\n",
    "margin_of_error = t_critical * standard_error\n",
    "\n",
    "#Confidence Interval\n",
    "\n",
    "lower_bound = point_estimate - margin_of_error\n",
    "upper_bound = point_estimate + margin_of_error"
   ]
  },
  {
   "cell_type": "code",
   "execution_count": 9,
   "id": "821b7b0a",
   "metadata": {},
   "outputs": [
    {
     "name": "stdout",
     "output_type": "stream",
     "text": [
      "Point Estimate: 20.4\n",
      "Critical Value (t): 2.1447866879169273\n",
      "Standard Error: 1.6981782956478755\n",
      "95% Confidence Interval: [16.75776979778498, 24.042230202215016]\n"
     ]
    }
   ],
   "source": [
    "#Output 2 \n",
    "\n",
    "print(f\"Point Estimate: {point_estimate}\")\n",
    "print(f\"Critical Value (t): {t_critical}\")\n",
    "print(f\"Standard Error: {standard_error}\")\n",
    "print(f\"95% Confidence Interval: [{lower_bound}, {upper_bound}]\")\n"
   ]
  },
  {
   "cell_type": "code",
   "execution_count": null,
   "id": "747485e2",
   "metadata": {},
   "outputs": [],
   "source": []
  }
 ],
 "metadata": {
  "kernelspec": {
   "display_name": "Python 3 (ipykernel)",
   "language": "python",
   "name": "python3"
  },
  "language_info": {
   "codemirror_mode": {
    "name": "ipython",
    "version": 3
   },
   "file_extension": ".py",
   "mimetype": "text/x-python",
   "name": "python",
   "nbconvert_exporter": "python",
   "pygments_lexer": "ipython3",
   "version": "3.10.9"
  }
 },
 "nbformat": 4,
 "nbformat_minor": 5
}
