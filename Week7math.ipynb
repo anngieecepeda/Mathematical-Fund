{
 "cells": [
  {
   "cell_type": "code",
   "execution_count": 1,
   "id": "e7d81888",
   "metadata": {},
   "outputs": [],
   "source": [
    "import numpy as np\n",
    "\n",
    "from scipy.stats import norm\n"
   ]
  },
  {
   "cell_type": "markdown",
   "id": "6d08759c",
   "metadata": {},
   "source": [
    "PARTE B\n",
    "EXERCISE 1\n",
    "\n",
    "Confidence Inteval for Population Mean\n",
    "When the population standard deviation is known."
   ]
  },
  {
   "cell_type": "code",
   "execution_count": 2,
   "id": "d4ab19ea",
   "metadata": {},
   "outputs": [],
   "source": [
    "#Exercise 1 \n",
    "\n",
    "#Sample data\n",
    "\n",
    "x = np.array([12, 12, 13, 13, 15, 16, 17, 22, 23, 25, 26, 27, 28, 28, 29, 17, 22, 23, 25, 26, 27, 28, 28, 29, 13, 15, 16, \n",
    "17, 22, 23, 25, 26, 27, 28, 28, 29, 17, 22, 23])"
   ]
  },
  {
   "cell_type": "code",
   "execution_count": 3,
   "id": "222d9310",
   "metadata": {},
   "outputs": [],
   "source": [
    "#Population Standard Deviation\n",
    "\n",
    "population_std_dev = 5.6\n",
    "\n",
    "#Point Estimate\n",
    "\n",
    "sample_size = len(x)\n",
    "point_estimate = np.mean(x)\n",
    "\n",
    "#Critical value based on z-distribution for 95% confidence interval\n",
    "confidence_level = 0.95\n",
    "z_critical = norm.ppf((1 + confidence_level) / 2)\n",
    "\n",
    "#Standar Error\n",
    "standard_error = population_std_dev / np.sqrt(len(x))\n",
    "\n",
    "#Margin of Error\n",
    "\n",
    "margin_of_error = z_critical * standard_error\n",
    "\n",
    "#Confidence Interval\n",
    "\n",
    "lower_bound = point_estimate - margin_of_error\n",
    "upper_bound = point_estimate + margin_of_error\n"
   ]
  },
  {
   "cell_type": "code",
   "execution_count": 6,
   "id": "cc9a17df",
   "metadata": {
    "scrolled": true
   },
   "outputs": [
    {
     "name": "stdout",
     "output_type": "stream",
     "text": [
      "Sample Size: 39\n",
      "Point Estimate: 22.102564102564102\n",
      "Critical Value (Z): 1.959963984540054\n",
      "Standard Error: 0.8967176613084878\n",
      "95% Confidence Interval: [20.34502978209848, 23.860098423029726]\n"
     ]
    }
   ],
   "source": [
    "#Output\n",
    "\n",
    "print(f\"Sample Size: {sample_size}\")\n",
    "print(f\"Point Estimate: {point_estimate}\")\n",
    "print(f\"Critical Value (Z): {z_critical}\")\n",
    "print(f\"Standard Error: {standard_error}\")\n",
    "print(f\"95% Confidence Interval: [{lower_bound}, {upper_bound}]\")\n",
    "\n"
   ]
  },
  {
   "cell_type": "markdown",
   "id": "e001100d",
   "metadata": {},
   "source": [
    "EXERCISE 2\n",
    "Confidence Intervals Using the Students t Distribution"
   ]
  },
  {
   "cell_type": "code",
   "execution_count": 7,
   "id": "6c825c7f",
   "metadata": {},
   "outputs": [],
   "source": [
    "import numpy as np\n",
    "from scipy.stats import t\n",
    "\n",
    "#Sample data\n",
    "\n",
    "x = np.array([12, 12, 13, 13, 15, 16, 17, 22, 23, 25, 26, 27, 28, 28, 29])\n"
   ]
  },
  {
   "cell_type": "code",
   "execution_count": 8,
   "id": "75f73cd7",
   "metadata": {},
   "outputs": [],
   "source": [
    "#Sample size\n",
    "sample_size = len(x)\n",
    "\n",
    "#Degrees of Freedom for t Distribution\n",
    "df = sample_size - 1\n",
    "\n",
    "#Point estimate (mean)\n",
    "point_estimate = np.mean(x)\n",
    "\n",
    "#Critical value based on z-distribution for 95% confidence interval\n",
    "confidence_level = 0.95\n",
    "t_critical = t.ppf((1 + confidence_level) / 2, df)\n",
    "\n",
    "#Standar Error\n",
    "std_dev = np.std(x, ddof =1) #ddof=1 for sample standard deviation\n",
    "standard_error = std_dev / np.sqrt(sample_size)\n",
    "\n",
    "#Margin of Error\n",
    "\n",
    "margin_of_error = t_critical * standard_error\n",
    "\n",
    "#Confidence Interval\n",
    "\n",
    "lower_bound = point_estimate - margin_of_error\n",
    "upper_bound = point_estimate + margin_of_error"
   ]
  },
  {
   "cell_type": "code",
   "execution_count": 9,
   "id": "821b7b0a",
   "metadata": {},
   "outputs": [
    {
     "name": "stdout",
     "output_type": "stream",
     "text": [
      "Point Estimate: 20.4\n",
      "Critical Value (t): 2.1447866879169273\n",
      "Standard Error: 1.6981782956478755\n",
      "95% Confidence Interval: [16.75776979778498, 24.042230202215016]\n"
     ]
    }
   ],
   "source": [
    "#Output 2 \n",
    "\n",
    "print(f\"Point Estimate: {point_estimate}\")\n",
    "print(f\"Critical Value (t): {t_critical}\")\n",
    "print(f\"Standard Error: {standard_error}\")\n",
    "print(f\"95% Confidence Interval: [{lower_bound}, {upper_bound}]\")\n"
   ]
  },
  {
   "cell_type": "markdown",
   "id": "fbf12015-884f-4839-970a-c55cba41c798",
   "metadata": {},
   "source": []
  },
  {
   "cell_type": "markdown",
   "id": "cbdd9b58-f5f2-4852-ac45-7c93e8b1cc2f",
   "metadata": {},
   "source": [
    "## REVISION GUIDE"
   ]
  },
  {
   "cell_type": "code",
   "execution_count": null,
   "id": "39e02cfe-7cc7-44b7-ab74-1979f3f2c3e2",
   "metadata": {},
   "outputs": [],
   "source": [
    "#X= 50 sigma o=20 m= unknown n=30"
   ]
  },
  {
   "cell_type": "code",
   "execution_count": 8,
   "id": "8263b0e1-fdfe-41af-827b-0b2afbd89108",
   "metadata": {},
   "outputs": [
    {
     "data": {
      "text/plain": [
       "3.6514837167011076"
      ]
     },
     "execution_count": 8,
     "metadata": {},
     "output_type": "execute_result"
    }
   ],
   "source": [
    "import numpy as np\n",
    "Ppln_SD = 20\n",
    "Sample_Size = 30\n",
    "\n",
    "#standard deviation of the sampling distribution = Population Standard Deviation / sqrt(n)\n",
    "\n",
    "SE=Ppln_SD/(Sample_Size**0.5)\n",
    "SE"
   ]
  },
  {
   "cell_type": "markdown",
   "id": "a6edfcf0-04f1-4ba3-8812-c976059c373b",
   "metadata": {},
   "source": [
    "Below are the marks obtained by students in a test (out of a total of 60) 34,36,36,38,39,etc.. find: mean, median, variance, sd."
   ]
  },
  {
   "cell_type": "code",
   "execution_count": 15,
   "id": "9fa0a181-e446-47d2-ae77-b00844612fa6",
   "metadata": {},
   "outputs": [],
   "source": [
    "import numpy as np\n",
    "import pandas as pd\n",
    "from scipy import stats \n",
    "from scipy.stats import norm\n",
    "\n"
   ]
  },
  {
   "cell_type": "code",
   "execution_count": 19,
   "id": "da75af10-973f-47e3-87f9-48aec1f31aae",
   "metadata": {},
   "outputs": [
    {
     "data": {
      "text/plain": [
       "0    34\n",
       "1    36\n",
       "2    36\n",
       "3    38\n",
       "4    38\n",
       "dtype: int64"
      ]
     },
     "execution_count": 19,
     "metadata": {},
     "output_type": "execute_result"
    }
   ],
   "source": [
    "data=pd.Series([34,36,36,38,38,39,39,40,40,41,41,41,41,42,42,45,49,56])\n",
    "data.head()"
   ]
  },
  {
   "cell_type": "code",
   "execution_count": 21,
   "id": "3de4175b-9409-4086-846b-6f910a9914f3",
   "metadata": {},
   "outputs": [
    {
     "data": {
      "text/plain": [
       "18"
      ]
     },
     "execution_count": 21,
     "metadata": {},
     "output_type": "execute_result"
    }
   ],
   "source": [
    "#sample size\n",
    "len(data)"
   ]
  },
  {
   "cell_type": "code",
   "execution_count": 23,
   "id": "75cbde92-ca62-4c51-955b-153e27cae4aa",
   "metadata": {},
   "outputs": [
    {
     "data": {
      "text/plain": [
       "41.0"
      ]
     },
     "execution_count": 23,
     "metadata": {},
     "output_type": "execute_result"
    }
   ],
   "source": [
    "#mean \n",
    "data.mean()"
   ]
  },
  {
   "cell_type": "code",
   "execution_count": 25,
   "id": "d70abc28-8e3b-4d3f-bda1-27ff53fe62da",
   "metadata": {},
   "outputs": [
    {
     "data": {
      "text/plain": [
       "40.5"
      ]
     },
     "execution_count": 25,
     "metadata": {},
     "output_type": "execute_result"
    }
   ],
   "source": [
    "#median\n",
    "data.median()"
   ]
  },
  {
   "cell_type": "code",
   "execution_count": 27,
   "id": "ce98139d-9383-437d-a2e6-86b396842d40",
   "metadata": {},
   "outputs": [
    {
     "data": {
      "text/plain": [
       "25.529411764705884"
      ]
     },
     "execution_count": 27,
     "metadata": {},
     "output_type": "execute_result"
    }
   ],
   "source": [
    "#sample variance\n",
    "data.var()"
   ]
  },
  {
   "cell_type": "code",
   "execution_count": 29,
   "id": "d02efaf0-5cbd-43bd-a06d-dd071c389415",
   "metadata": {},
   "outputs": [
    {
     "data": {
      "text/plain": [
       "5.05266382858645"
      ]
     },
     "execution_count": 29,
     "metadata": {},
     "output_type": "execute_result"
    }
   ],
   "source": [
    "#sample standar deviation\n",
    "data.std()"
   ]
  },
  {
   "cell_type": "code",
   "execution_count": 31,
   "id": "5b97f558-e2ec-4057-88ba-58ffea69480c",
   "metadata": {},
   "outputs": [
    {
     "data": {
      "text/plain": [
       "count    18.000000\n",
       "mean     41.000000\n",
       "std       5.052664\n",
       "min      34.000000\n",
       "25%      38.250000\n",
       "50%      40.500000\n",
       "75%      41.750000\n",
       "max      56.000000\n",
       "dtype: float64"
      ]
     },
     "execution_count": 31,
     "metadata": {},
     "output_type": "execute_result"
    }
   ],
   "source": [
    "#Alternative\n",
    "data.describe()"
   ]
  },
  {
   "cell_type": "markdown",
   "id": "69c3cfb7-0410-4de8-ba2d-806f4e9fb317",
   "metadata": {},
   "source": [
    "#extra question\n",
    "#Calculate the 90% confidence interval for the population mean of students marks?\n",
    "\n"
   ]
  },
  {
   "cell_type": "code",
   "execution_count": 58,
   "id": "66049e1e-7429-4a65-a9a0-dd2124b9256b",
   "metadata": {},
   "outputs": [],
   "source": [
    "#Population Standard Deviation\n",
    "\n",
    "population_std_dev = 5.05\n",
    "\n",
    "#Point Estimate\n",
    "\n",
    "sample_size_ = len(data)\n",
    "point_estimate = np.mean(data)\n",
    "\n",
    "#Critical value based on z-distribution for 90% confidence interval\n",
    "confidence_level = 0.90\n",
    "z_critical = norm.ppf((1 + confidence_level) / 2)\n",
    "\n",
    "#Standar Error\n",
    "standard_error = population_std_dev / np.sqrt(len(data))\n",
    "                                              \n",
    "#Margin of Error\n",
    "\n",
    "margin_of_error = z_critical * standard_error\n",
    "\n",
    "#Confidence Interval\n",
    "\n",
    "lower_bound = point_estimate - margin_of_error\n",
    "upper_bound = point_estimate + margin_of_error"
   ]
  },
  {
   "cell_type": "code",
   "execution_count": 64,
   "id": "d1110740-30fe-4d77-993e-bb761d1f9525",
   "metadata": {},
   "outputs": [
    {
     "name": "stdout",
     "output_type": "stream",
     "text": [
      "Sample Size: 18\n",
      "Point Estimate: 41.0\n",
      "Critical Value (Z): 1.6448536269514722\n",
      "Standard Error: 1.1902964149973552\n",
      "95% Confidence Interval: [39.042136624644264, 42.957863375355736]\n"
     ]
    }
   ],
   "source": [
    "print(f\"Sample Size: {sample_size_}\")\n",
    "print(f\"Point Estimate: {point_estimate}\")\n",
    "print(f\"Critical Value (Z): {z_critical}\")\n",
    "print(f\"Standard Error: {standard_error}\")\n",
    "print(f\"95% Confidence Interval: [{lower_bound}, {upper_bound}]\")\n"
   ]
  },
  {
   "cell_type": "code",
   "execution_count": null,
   "id": "b1677a8a-de8b-4254-99d9-0a60d38f7d94",
   "metadata": {},
   "outputs": [],
   "source": []
  },
  {
   "cell_type": "code",
   "execution_count": null,
   "id": "282e6ff8-d129-4a08-9727-90d2a0a48fe4",
   "metadata": {},
   "outputs": [],
   "source": []
  },
  {
   "cell_type": "markdown",
   "id": "c038f072-6d89-472a-b76a-b980b063a9e0",
   "metadata": {},
   "source": [
    "Calculate the Z values of 90% confidence interval, 94% confidence interval, 60% confidence interval"
   ]
  },
  {
   "cell_type": "code",
   "execution_count": 42,
   "id": "ae548a57-1b8c-40bd-a0e8-b5653d27607b",
   "metadata": {},
   "outputs": [
    {
     "data": {
      "text/plain": [
       "1.959963984540054"
      ]
     },
     "execution_count": 42,
     "metadata": {},
     "output_type": "execute_result"
    }
   ],
   "source": [
    "#ppf means percent point function, basicamente dice que valor de \n",
    "#z deja a su izquierda esa cantidad de area bajo la curva\n",
    "\n",
    "#Z-score of 95% confidence interval\n",
    "z_value= stats.norm.ppf(0.975)\n",
    "z_value"
   ]
  },
  {
   "cell_type": "code",
   "execution_count": 46,
   "id": "2768e2cf-a747-4b99-959e-1eb82368ea27",
   "metadata": {},
   "outputs": [
    {
     "data": {
      "text/plain": [
       "1.6448536269514722"
      ]
     },
     "execution_count": 46,
     "metadata": {},
     "output_type": "execute_result"
    }
   ],
   "source": [
    "#Z-score of 94% confidence interval\n",
    "stats.norm.ppf(0.97)\n"
   ]
  },
  {
   "cell_type": "code",
   "execution_count": 48,
   "id": "6ceaf977-5d13-47ee-a69e-1e8bc6956704",
   "metadata": {},
   "outputs": [
    {
     "data": {
      "text/plain": [
       "0.8416212335729143"
      ]
     },
     "execution_count": 48,
     "metadata": {},
     "output_type": "execute_result"
    }
   ],
   "source": [
    "#Z-score of 60% confidence interval\n",
    "stats.norm.ppf(0.80)"
   ]
  },
  {
   "cell_type": "code",
   "execution_count": 50,
   "id": "564fad50-2be8-4d91-82d0-a0a630bd289e",
   "metadata": {},
   "outputs": [
    {
     "data": {
      "text/plain": [
       "1.6448536269514722"
      ]
     },
     "execution_count": 50,
     "metadata": {},
     "output_type": "execute_result"
    }
   ],
   "source": [
    "#Z-score of 90% confidence interval\n",
    "stats.norm.ppf(0.95)"
   ]
  },
  {
   "cell_type": "markdown",
   "id": "ae44e3ae-1000-4ce7-970c-7f9deb0fb6a5",
   "metadata": {},
   "source": [
    "The following information is given about a company's monthly repayment for car loans\n",
    "\n",
    "Sample mean (x) =$1990\n",
    "\n",
    "Sample Standard Deviation (s) =$2833\n",
    "\n",
    "Population Mean: Unknown\n",
    "\n",
    "Sample Size (n): 140\n",
    "\n",
    "The task is to construct a 95% confidence interval for the mean monthly repayment for a car loan and interpret it\n",
    "\n",
    "The formula for the confidence interval is:\n",
    "\n",
    "Confidence interval: Sample Mean +- (t-value x Sample Standard Deviation / SQRT(Sample Size))\n",
    "\n",
    "\n",
    "Lower Bound = Sample Mean - (t-value x Sample Standard Deviation / SQRT(Sample Size))\n",
    "\n",
    "\n",
    "Upper Bound = Sample Mean + (t-value x Sample Standard Deviation / SQRT(Sample Size))\n"
   ]
  },
  {
   "cell_type": "code",
   "execution_count": 4,
   "id": "ffe034ab-202a-4fd1-ac0e-043688d697e9",
   "metadata": {},
   "outputs": [],
   "source": [
    "import numpy as np\n",
    "import pandas as pd\n",
    "from scipy import stats\n",
    "from scipy.stats import t\n"
   ]
  },
  {
   "cell_type": "code",
   "execution_count": 6,
   "id": "fd3266df-3996-4c50-b480-0fd067452743",
   "metadata": {},
   "outputs": [],
   "source": [
    "x_bar=1990 #sample mean\n",
    "Sample_SD=2833 #Sample Standard Deviation\n",
    "Sample_Size=140 #Sample Size"
   ]
  },
  {
   "cell_type": "code",
   "execution_count": 9,
   "id": "92c7fe3a-3e2a-4ac3-a89c-06466471e384",
   "metadata": {},
   "outputs": [
    {
     "data": {
      "text/plain": [
       "1.977177724476122"
      ]
     },
     "execution_count": 9,
     "metadata": {},
     "output_type": "execute_result"
    }
   ],
   "source": [
    "#t-value = stats.t.ppf(0,975,df=n-1)\n",
    "\n",
    "t_value = stats.t.ppf(0.975,df=Sample_Size-1)\n",
    "t_value"
   ]
  },
  {
   "cell_type": "code",
   "execution_count": 17,
   "id": "bf4ff842-429b-4f2e-a738-efc7a7e5fe5a",
   "metadata": {},
   "outputs": [
    {
     "data": {
      "text/plain": [
       "239.43220036458874"
      ]
     },
     "execution_count": 17,
     "metadata": {},
     "output_type": "execute_result"
    }
   ],
   "source": [
    "#Sample Standard Error= Sample SD/SQRT(n)\n",
    "\n",
    "SE=Sample_SD/(Sample_Size**0.5)\n",
    "SE"
   ]
  },
  {
   "cell_type": "code",
   "execution_count": 23,
   "id": "1b1e8be5-238e-43be-8bcf-c967c726fe09",
   "metadata": {},
   "outputs": [
    {
     "data": {
      "text/plain": [
       "239.43220036458874"
      ]
     },
     "execution_count": 23,
     "metadata": {},
     "output_type": "execute_result"
    }
   ],
   "source": [
    "#You can use also this formula\n",
    "\n",
    "SE=Sample_SD/(np.sqrt(Sample_Size))\n",
    "SE"
   ]
  },
  {
   "cell_type": "code",
   "execution_count": 25,
   "id": "16fd12c1-96aa-4372-8e4e-b12779905edb",
   "metadata": {},
   "outputs": [
    {
     "data": {
      "text/plain": [
       "[1516.5999869168315, 2463.4000130831682]"
      ]
     },
     "execution_count": 25,
     "metadata": {},
     "output_type": "execute_result"
    }
   ],
   "source": [
    "#95% confidence interval using t value = Sample mean -+ (t_value * SE)\n",
    "\n",
    "[x_bar-(t_value*SE),x_bar+(t_value*SE)]"
   ]
  },
  {
   "cell_type": "code",
   "execution_count": null,
   "id": "f97d63ce-4260-4921-a6ed-41cc95fd32b8",
   "metadata": {},
   "outputs": [],
   "source": []
  }
 ],
 "metadata": {
  "kernelspec": {
   "display_name": "Python [conda env:base] *",
   "language": "python",
   "name": "conda-base-py"
  },
  "language_info": {
   "codemirror_mode": {
    "name": "ipython",
    "version": 3
   },
   "file_extension": ".py",
   "mimetype": "text/x-python",
   "name": "python",
   "nbconvert_exporter": "python",
   "pygments_lexer": "ipython3",
   "version": "3.12.7"
  }
 },
 "nbformat": 4,
 "nbformat_minor": 5
}
